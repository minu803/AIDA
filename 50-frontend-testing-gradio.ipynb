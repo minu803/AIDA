{
  "nbformat": 4,
  "nbformat_minor": 0,
  "metadata": {
    "colab": {
      "provenance": [],
      "toc_visible": true,
      "authorship_tag": "ABX9TyO2MDFvj7f4sleloFs8xnpW",
      "include_colab_link": true
    },
    "kernelspec": {
      "name": "python3",
      "display_name": "Python 3"
    },
    "language_info": {
      "name": "python"
    }
  },
  "cells": [
    {
      "cell_type": "markdown",
      "metadata": {
        "id": "view-in-github",
        "colab_type": "text"
      },
      "source": [
        "<a href=\"https://colab.research.google.com/github/vanderbilt-data-science/AIDA/blob/13-create-beta-version-front-end-gradio/50_frontend_testing_gradio.ipynb\" target=\"_parent\"><img src=\"https://colab.research.google.com/assets/colab-badge.svg\" alt=\"Open In Colab\"/></a>"
      ]
    },
    {
      "cell_type": "markdown",
      "source": [
        "# 50-frontend-testing-gradio"
      ],
      "metadata": {
        "id": "MNC4XFAxGJ9X"
      }
    },
    {
      "cell_type": "markdown",
      "source": [
        "In this notebook, we will delve into the implementation of Gradio, covering both its general usage and more advanced features. We will explore how to incorporate features like file upload, interaction with generative AI, and configuring parameters that are essential for our AIDA project."
      ],
      "metadata": {
        "id": "TnbgC2qNGVIM"
      }
    },
    {
      "cell_type": "markdown",
      "source": [
        "## Install & load packages"
      ],
      "metadata": {
        "id": "Smb47tCl-tWO"
      }
    },
    {
      "cell_type": "code",
      "execution_count": 1,
      "metadata": {
        "id": "y9Ln01OX-ob9"
      },
      "outputs": [],
      "source": [
        "%%capture\n",
        "!pip install -q gradio\n",
        "!pip install -q transformers\n",
        "!pip install -q langchain\n",
        "!pip install -q openai\n"
      ]
    },
    {
      "cell_type": "code",
      "source": [
        "import gradio as gr"
      ],
      "metadata": {
        "id": "x1Zou12OFM7j"
      },
      "execution_count": 2,
      "outputs": []
    },
    {
      "cell_type": "markdown",
      "source": [
        "## Test gradio"
      ],
      "metadata": {
        "id": "Ll-DYGqL8XCn"
      }
    },
    {
      "cell_type": "markdown",
      "source": [
        "This section introduces the basic Gradio function as a starting point before we proceed to explore more advanced features."
      ],
      "metadata": {
        "id": "nWMTeePyRMDt"
      }
    },
    {
      "cell_type": "code",
      "source": [
        "def greet(name, isMorning, temperature):\n",
        "    salutation = \"Good morning\" if isMorning else \"Good evening\"\n",
        "    greeting = \"%s %s. It is %s degrees today\" % (salutation, name, temperature)\n",
        "    celsius = (temperature - 32) * 5 / 9\n",
        "    return greeting, round(celsius, 2)\n",
        "\n",
        "demo = gr.Interface(\n",
        "    fn=greet,\n",
        "    inputs=[gr.Textbox(lines=2, placeholder=\"Your Name Here...\"), gr.Checkbox(label=\"Is it Morning?\"), gr.Slider(0, 100)],\n",
        "    outputs=[gr.Textbox(label = \"Greeting\"), gr.Number(label = \"Temperature in Celsius\")],\n",
        "    examples=[\n",
        "        [\"Umang\", True, 65],\n",
        "        [\"Jesse\", False, 95]]\n",
        ")\n",
        "demo.launch()"
      ],
      "metadata": {
        "id": "8ATnm1_V_zvG",
        "colab": {
          "base_uri": "https://localhost:8080/",
          "height": 636
        },
        "outputId": "f4581620-25e3-453a-c90c-208a2f36f458"
      },
      "execution_count": 3,
      "outputs": [
        {
          "output_type": "stream",
          "name": "stdout",
          "text": [
            "Colab notebook detected. To show errors in colab notebook, set debug=True in launch()\n",
            "Note: opening Chrome Inspector may crash demo inside Colab notebooks.\n",
            "\n",
            "To create a public link, set `share=True` in `launch()`.\n"
          ]
        },
        {
          "output_type": "display_data",
          "data": {
            "text/plain": [
              "<IPython.core.display.Javascript object>"
            ],
            "application/javascript": [
              "(async (port, path, width, height, cache, element) => {\n",
              "                        if (!google.colab.kernel.accessAllowed && !cache) {\n",
              "                            return;\n",
              "                        }\n",
              "                        element.appendChild(document.createTextNode(''));\n",
              "                        const url = await google.colab.kernel.proxyPort(port, {cache});\n",
              "\n",
              "                        const external_link = document.createElement('div');\n",
              "                        external_link.innerHTML = `\n",
              "                            <div style=\"font-family: monospace; margin-bottom: 0.5rem\">\n",
              "                                Running on <a href=${new URL(path, url).toString()} target=\"_blank\">\n",
              "                                    https://localhost:${port}${path}\n",
              "                                </a>\n",
              "                            </div>\n",
              "                        `;\n",
              "                        element.appendChild(external_link);\n",
              "\n",
              "                        const iframe = document.createElement('iframe');\n",
              "                        iframe.src = new URL(path, url).toString();\n",
              "                        iframe.height = height;\n",
              "                        iframe.allow = \"autoplay; camera; microphone; clipboard-read; clipboard-write;\"\n",
              "                        iframe.width = width;\n",
              "                        iframe.style.border = 0;\n",
              "                        element.appendChild(iframe);\n",
              "                    })(7860, \"/\", \"100%\", 500, false, window.element)"
            ]
          },
          "metadata": {}
        },
        {
          "output_type": "execute_result",
          "data": {
            "text/plain": []
          },
          "metadata": {},
          "execution_count": 3
        }
      ]
    },
    {
      "cell_type": "markdown",
      "source": [
        "## First version -- file upload\n"
      ],
      "metadata": {
        "id": "9mN5TON98dnh"
      }
    },
    {
      "cell_type": "markdown",
      "source": [
        "This code snippet requires the user to upload a file, reads the contents of the file, and generates an output based on the incorporated parameters. (Note that the generated output is intended for display purposes and may not be accurate since accurate prompts haven't been provided.)"
      ],
      "metadata": {
        "id": "KQyTPI40S2br"
      }
    },
    {
      "cell_type": "code",
      "source": [
        "def read_story(story_file):\n",
        "    with open(story_file.name, \"r\") as f:\n",
        "        story = f.read()\n",
        "    return story\n",
        "\n",
        "def ask_questions(story, prompt, count, age):\n",
        "    print(\"Please provide the story:\")\n",
        "    print(story)\n",
        "    print(\"Paste user guide prompt:\")\n",
        "    print(prompt)\n",
        "    print(\"How many times have you read the story?\")\n",
        "    print(count)\n",
        "    print(\"What's the reader's age?\")\n",
        "    print(age)\n",
        "\n",
        "story_input = gr.inputs.File(label=\"Upload Story\")\n",
        "prompt_input = gr.inputs.Textbox(label=\"User Guide Prompt\")\n",
        "count_input = gr.inputs.Number(label=\"The number of times users read the story\")\n",
        "age_input = gr.inputs.Number(label=\"Reader's Age\")\n",
        "interface = gr.Interface(fn=ask_questions,\n",
        "                         inputs=[story_input, prompt_input, count_input, age_input],\n",
        "                         outputs='text')\n",
        "interface.launch()"
      ],
      "metadata": {
        "colab": {
          "base_uri": "https://localhost:8080/",
          "height": 983
        },
        "id": "BKg5uj89g2yP",
        "outputId": "e974823d-198b-4af4-87fc-7f598a4698a0"
      },
      "execution_count": 4,
      "outputs": [
        {
          "output_type": "stream",
          "name": "stderr",
          "text": [
            "<ipython-input-4-84c952356c51>:16: GradioDeprecationWarning: Usage of gradio.inputs is deprecated, and will not be supported in the future, please import your component from gradio.components\n",
            "  story_input = gr.inputs.File(label=\"Upload Story\")\n",
            "<ipython-input-4-84c952356c51>:16: GradioDeprecationWarning: `optional` parameter is deprecated, and it has no effect\n",
            "  story_input = gr.inputs.File(label=\"Upload Story\")\n",
            "<ipython-input-4-84c952356c51>:16: GradioDeprecationWarning: `keep_filename` parameter is deprecated, and it has no effect\n",
            "  story_input = gr.inputs.File(label=\"Upload Story\")\n",
            "<ipython-input-4-84c952356c51>:17: GradioDeprecationWarning: Usage of gradio.inputs is deprecated, and will not be supported in the future, please import your component from gradio.components\n",
            "  prompt_input = gr.inputs.Textbox(label=\"User Guide Prompt\")\n",
            "<ipython-input-4-84c952356c51>:17: GradioDeprecationWarning: `optional` parameter is deprecated, and it has no effect\n",
            "  prompt_input = gr.inputs.Textbox(label=\"User Guide Prompt\")\n",
            "<ipython-input-4-84c952356c51>:17: GradioDeprecationWarning: `numeric` parameter is deprecated, and it has no effect\n",
            "  prompt_input = gr.inputs.Textbox(label=\"User Guide Prompt\")\n",
            "<ipython-input-4-84c952356c51>:18: GradioDeprecationWarning: Usage of gradio.inputs is deprecated, and will not be supported in the future, please import your component from gradio.components\n",
            "  count_input = gr.inputs.Number(label=\"The number of times users read the story\")\n",
            "<ipython-input-4-84c952356c51>:18: GradioDeprecationWarning: `optional` parameter is deprecated, and it has no effect\n",
            "  count_input = gr.inputs.Number(label=\"The number of times users read the story\")\n",
            "<ipython-input-4-84c952356c51>:19: GradioDeprecationWarning: Usage of gradio.inputs is deprecated, and will not be supported in the future, please import your component from gradio.components\n",
            "  age_input = gr.inputs.Number(label=\"Reader's Age\")\n",
            "<ipython-input-4-84c952356c51>:19: GradioDeprecationWarning: `optional` parameter is deprecated, and it has no effect\n",
            "  age_input = gr.inputs.Number(label=\"Reader's Age\")\n"
          ]
        },
        {
          "output_type": "stream",
          "name": "stdout",
          "text": [
            "Colab notebook detected. To show errors in colab notebook, set debug=True in launch()\n",
            "Note: opening Chrome Inspector may crash demo inside Colab notebooks.\n",
            "\n",
            "To create a public link, set `share=True` in `launch()`.\n"
          ]
        },
        {
          "output_type": "display_data",
          "data": {
            "text/plain": [
              "<IPython.core.display.Javascript object>"
            ],
            "application/javascript": [
              "(async (port, path, width, height, cache, element) => {\n",
              "                        if (!google.colab.kernel.accessAllowed && !cache) {\n",
              "                            return;\n",
              "                        }\n",
              "                        element.appendChild(document.createTextNode(''));\n",
              "                        const url = await google.colab.kernel.proxyPort(port, {cache});\n",
              "\n",
              "                        const external_link = document.createElement('div');\n",
              "                        external_link.innerHTML = `\n",
              "                            <div style=\"font-family: monospace; margin-bottom: 0.5rem\">\n",
              "                                Running on <a href=${new URL(path, url).toString()} target=\"_blank\">\n",
              "                                    https://localhost:${port}${path}\n",
              "                                </a>\n",
              "                            </div>\n",
              "                        `;\n",
              "                        element.appendChild(external_link);\n",
              "\n",
              "                        const iframe = document.createElement('iframe');\n",
              "                        iframe.src = new URL(path, url).toString();\n",
              "                        iframe.height = height;\n",
              "                        iframe.allow = \"autoplay; camera; microphone; clipboard-read; clipboard-write;\"\n",
              "                        iframe.width = width;\n",
              "                        iframe.style.border = 0;\n",
              "                        element.appendChild(iframe);\n",
              "                    })(7861, \"/\", \"100%\", 500, false, window.element)"
            ]
          },
          "metadata": {}
        },
        {
          "output_type": "execute_result",
          "data": {
            "text/plain": []
          },
          "metadata": {},
          "execution_count": 4
        }
      ]
    },
    {
      "cell_type": "markdown",
      "source": [
        "## Second version -- text with transformers\n"
      ],
      "metadata": {
        "id": "oZRUpvoj8p64"
      }
    },
    {
      "cell_type": "markdown",
      "source": [
        "In this section, we will leverage a generative AI model, specifically the Transformers, to generate the output that can be integrated with our prompts."
      ],
      "metadata": {
        "id": "8WX2l8uxUNYs"
      }
    },
    {
      "cell_type": "code",
      "source": [
        "# Set OpenAI API Key\n",
        "# Run this code and paste the API key and press 'enter'\n",
        "\n",
        "import os\n",
        "import openai\n",
        "from getpass import getpass\n",
        "\n",
        "openai_api_key = getpass()\n",
        "os.environ[\"OPENAI_API_KEY\"] = openai_api_key"
      ],
      "metadata": {
        "colab": {
          "base_uri": "https://localhost:8080/"
        },
        "id": "n19OwRQ-K1eJ",
        "outputId": "65ccb59b-1f80-4c80-d9c5-9ffffbaf9c05"
      },
      "execution_count": 8,
      "outputs": [
        {
          "name": "stdout",
          "output_type": "stream",
          "text": [
            "··········\n"
          ]
        }
      ]
    },
    {
      "cell_type": "code",
      "source": [
        "# In some cases, the above code may not work. . In such instances, you have the option to directly input your API key by replacing 'sk-...' with your own API key.\n",
        "# openai.api_key = 'sk-..'\n"
      ],
      "metadata": {
        "id": "R3QPdPkw8lmM"
      },
      "execution_count": 10,
      "outputs": []
    },
    {
      "cell_type": "code",
      "source": [
        "# test the transformer model\n",
        "completion = openai.ChatCompletion.create(\n",
        "  model = \"gpt-3.5-turbo\",\n",
        "  temperature = 0.8,\n",
        "  max_tokens = 2000,\n",
        "  messages = [\n",
        "    {\"role\": \"system\", \"content\": \"You are a poet who creates poems that evoke emotions.\"},\n",
        "    {\"role\": \"user\", \"content\": \"Write a short poem for programmers.\"}\n",
        "  ]\n",
        ")\n",
        "\n",
        "print(completion.choices[0].message.content)"
      ],
      "metadata": {
        "colab": {
          "base_uri": "https://localhost:8080/"
        },
        "id": "m0DVK1_-Jftd",
        "outputId": "123a6a23-0996-4c83-e4f4-ab60f20e7098"
      },
      "execution_count": 11,
      "outputs": [
        {
          "output_type": "stream",
          "name": "stdout",
          "text": [
            "In lines of code, a world unfolds,\n",
            "Where logic reigns, and dreams take hold.\n",
            "With keystrokes swift, and minds ablaze,\n",
            "Programmers craft, a digital maze.\n",
            "\n",
            "Through algorithms, paths are sought,\n",
            "Seeking solutions, with every thought.\n",
            "From bugs to fix, to functions refined,\n",
            "They weave a tapestry, of code entwined.\n",
            "\n",
            "Late nights spent, in code's embrace,\n",
            "Creating wonders, in virtual space.\n",
            "With syntax sharp, and bugs laid bare,\n",
            "They strive for perfection, beyond compare.\n",
            "\n",
            "For in this realm, where lines connect,\n",
            "Programmers build, what others neglect.\n",
            "Their fingertips dance, with grace profound,\n",
            "Creating magic, without a sound.\n",
            "\n",
            "So let us honor, these masters of code,\n",
            "Whose creations shape, the future's ode.\n",
            "In their hands, technology thrives,\n",
            "With logic, passion, and infinite drives.\n"
          ]
        }
      ]
    },
    {
      "cell_type": "code",
      "source": [
        "# The predict function utilizes the inputs from the Gradio interface,\n",
        "# along with the prompts provided, to generate an output.\n",
        "\n",
        "def predict(story, prompt, count, age, level, language):\n",
        "    # Using the OpenAI API, we create a completion\n",
        "    # by sending a request with the specified parameters.\n",
        "    response = openai.Completion.create(\n",
        "        engine=\"text-davinci-002\",  # GPT-3.5 engine\n",
        "        prompt= prompt,\n",
        "        max_tokens=1024,\n",
        "        n=1,\n",
        "        stop=None,\n",
        "        temperature=0.7,\n",
        "    )\n",
        "    completion = response.choices[0].text\n",
        "    return completion"
      ],
      "metadata": {
        "id": "Y0C-TnASNU4G"
      },
      "execution_count": 12,
      "outputs": []
    },
    {
      "cell_type": "markdown",
      "source": [
        "## Last version -- setting up the Gradio interface for the AIDA application\n"
      ],
      "metadata": {
        "id": "kpG5qIZpQvpg"
      }
    },
    {
      "cell_type": "markdown",
      "source": [
        "The following code accepts inputs such as a story, prompts, the number of times the story has been read, the child's age, the child's reading level, and the language. It generates an output that is relevant to the specified parameters. Please note that specific prompts have not been predetermined in this stage. For now, users can simply input prompts like 'generate 3 questions related to the story'."
      ],
      "metadata": {
        "id": "5NkyvgKYXCDS"
      }
    },
    {
      "cell_type": "code",
      "source": [
        "title = \"AIDA(Artificially Intelligent Dialogic Reading Aid)\"\n",
        "\n",
        "description = \"\"\"\n",
        "A simple application that takes in inputs from the book and returns a questions\n",
        "for children to check their understanding of the book.\n",
        "\"\"\"\n",
        "\n",
        "#article = \"Check out more documentation at https://www.gradio.app/getting_started/#getting_started\"\n",
        "\n",
        "\n",
        "story_input = gr.inputs.Textbox(lines = 10, label=\"Upload a Story\")\n",
        "prompt_input = gr.inputs.Textbox(label=\"User Guide Prompt\")\n",
        "count_input = gr.inputs.Number(label=\"The number of time children read the story\")\n",
        "age_input = gr.inputs.Number(label=\"Reader's Age\")\n",
        "level_input = gr.inputs.Number(label=\"Reader's Reading Level (by age)\")\n",
        "language_input = gr.Dropdown(label = \"Language\", choices = [\"English\", \"Spanish\"])\n",
        "\n",
        "question_output = gr.Textbox(label = \"Generated Questions\")\n",
        "demo = gr.Interface(\n",
        "    fn=predict,\n",
        "    inputs=[story_input, prompt_input, count_input,\n",
        "            age_input,level_input, language_input],\n",
        "    outputs= question_output,\n",
        "    title=title,\n",
        "    description=description,\n",
        "    theme=\"compact\",\n",
        "    layout=\"vertical\"\n",
        ")\n",
        "\n",
        "demo.launch()"
      ],
      "metadata": {
        "colab": {
          "base_uri": "https://localhost:8080/",
          "height": 1000
        },
        "id": "a8MFB33-NGqh",
        "outputId": "9f114ed9-d19e-4fb4-a79d-754fe1374b1f"
      },
      "execution_count": 13,
      "outputs": [
        {
          "output_type": "stream",
          "name": "stderr",
          "text": [
            "<ipython-input-13-e0f1d438714a>:11: GradioDeprecationWarning: Usage of gradio.inputs is deprecated, and will not be supported in the future, please import your component from gradio.components\n",
            "  story_input = gr.inputs.Textbox(lines = 10, label=\"Upload a Story\")\n",
            "<ipython-input-13-e0f1d438714a>:11: GradioDeprecationWarning: `optional` parameter is deprecated, and it has no effect\n",
            "  story_input = gr.inputs.Textbox(lines = 10, label=\"Upload a Story\")\n",
            "<ipython-input-13-e0f1d438714a>:11: GradioDeprecationWarning: `numeric` parameter is deprecated, and it has no effect\n",
            "  story_input = gr.inputs.Textbox(lines = 10, label=\"Upload a Story\")\n",
            "<ipython-input-13-e0f1d438714a>:12: GradioDeprecationWarning: Usage of gradio.inputs is deprecated, and will not be supported in the future, please import your component from gradio.components\n",
            "  prompt_input = gr.inputs.Textbox(label=\"User Guide Prompt\")\n",
            "<ipython-input-13-e0f1d438714a>:12: GradioDeprecationWarning: `optional` parameter is deprecated, and it has no effect\n",
            "  prompt_input = gr.inputs.Textbox(label=\"User Guide Prompt\")\n",
            "<ipython-input-13-e0f1d438714a>:12: GradioDeprecationWarning: `numeric` parameter is deprecated, and it has no effect\n",
            "  prompt_input = gr.inputs.Textbox(label=\"User Guide Prompt\")\n",
            "<ipython-input-13-e0f1d438714a>:13: GradioDeprecationWarning: Usage of gradio.inputs is deprecated, and will not be supported in the future, please import your component from gradio.components\n",
            "  count_input = gr.inputs.Number(label=\"The number of time children read the story\")\n",
            "<ipython-input-13-e0f1d438714a>:13: GradioDeprecationWarning: `optional` parameter is deprecated, and it has no effect\n",
            "  count_input = gr.inputs.Number(label=\"The number of time children read the story\")\n",
            "<ipython-input-13-e0f1d438714a>:14: GradioDeprecationWarning: Usage of gradio.inputs is deprecated, and will not be supported in the future, please import your component from gradio.components\n",
            "  age_input = gr.inputs.Number(label=\"Reader's Age\")\n",
            "<ipython-input-13-e0f1d438714a>:14: GradioDeprecationWarning: `optional` parameter is deprecated, and it has no effect\n",
            "  age_input = gr.inputs.Number(label=\"Reader's Age\")\n",
            "<ipython-input-13-e0f1d438714a>:15: GradioDeprecationWarning: Usage of gradio.inputs is deprecated, and will not be supported in the future, please import your component from gradio.components\n",
            "  level_input = gr.inputs.Number(label=\"Reader's Reading Level (by age)\")\n",
            "<ipython-input-13-e0f1d438714a>:15: GradioDeprecationWarning: `optional` parameter is deprecated, and it has no effect\n",
            "  level_input = gr.inputs.Number(label=\"Reader's Reading Level (by age)\")\n",
            "/usr/local/lib/python3.10/dist-packages/gradio/blocks.py:692: UserWarning: Cannot load compact. Caught Exception: The space compact does not exist\n",
            "  warnings.warn(f\"Cannot load {theme}. Caught Exception: {str(e)}\")\n",
            "<ipython-input-13-e0f1d438714a>:19: GradioDeprecationWarning: `layout` parameter is deprecated, and it has no effect\n",
            "  demo = gr.Interface(\n"
          ]
        },
        {
          "output_type": "stream",
          "name": "stdout",
          "text": [
            "Colab notebook detected. To show errors in colab notebook, set debug=True in launch()\n",
            "Note: opening Chrome Inspector may crash demo inside Colab notebooks.\n",
            "\n",
            "To create a public link, set `share=True` in `launch()`.\n"
          ]
        },
        {
          "output_type": "display_data",
          "data": {
            "text/plain": [
              "<IPython.core.display.Javascript object>"
            ],
            "application/javascript": [
              "(async (port, path, width, height, cache, element) => {\n",
              "                        if (!google.colab.kernel.accessAllowed && !cache) {\n",
              "                            return;\n",
              "                        }\n",
              "                        element.appendChild(document.createTextNode(''));\n",
              "                        const url = await google.colab.kernel.proxyPort(port, {cache});\n",
              "\n",
              "                        const external_link = document.createElement('div');\n",
              "                        external_link.innerHTML = `\n",
              "                            <div style=\"font-family: monospace; margin-bottom: 0.5rem\">\n",
              "                                Running on <a href=${new URL(path, url).toString()} target=\"_blank\">\n",
              "                                    https://localhost:${port}${path}\n",
              "                                </a>\n",
              "                            </div>\n",
              "                        `;\n",
              "                        element.appendChild(external_link);\n",
              "\n",
              "                        const iframe = document.createElement('iframe');\n",
              "                        iframe.src = new URL(path, url).toString();\n",
              "                        iframe.height = height;\n",
              "                        iframe.allow = \"autoplay; camera; microphone; clipboard-read; clipboard-write;\"\n",
              "                        iframe.width = width;\n",
              "                        iframe.style.border = 0;\n",
              "                        element.appendChild(iframe);\n",
              "                    })(7862, \"/\", \"100%\", 500, false, window.element)"
            ]
          },
          "metadata": {}
        },
        {
          "output_type": "execute_result",
          "data": {
            "text/plain": []
          },
          "metadata": {},
          "execution_count": 13
        }
      ]
    }
  ]
}
